{
 "cells": [
  {
   "cell_type": "markdown",
   "metadata": {},
   "source": [
    "### Student Information\n",
    "Name: Yu-Han Zhao 趙宇涵\n",
    "\n",
    "Student ID: 110033635\n",
    "\n",
    "GitHub ID: honey0703\n",
    "\n",
    "Kaggle name: honey0703\n",
    "\n",
    "Kaggle private scoreboard snapshot:\n",
    "\n",
    "[Snapshot](img/pic0.png)"
   ]
  },
  {
   "cell_type": "markdown",
   "metadata": {},
   "source": [
    "---"
   ]
  },
  {
   "cell_type": "markdown",
   "metadata": {},
   "source": [
    "### Instructions"
   ]
  },
  {
   "cell_type": "markdown",
   "metadata": {},
   "source": [
    "1. First: __This part is worth 30% of your grade.__ Do the **take home** exercises in the [DM2021-Lab2-master Repo](https://github.com/fhcalderon87/DM2021-Lab2-master). You may need to copy some cells from the Lab notebook to this notebook. \n",
    "\n",
    "\n",
    "2. Second: __This part is worth 30% of your grade.__ Participate in the in-class [Kaggle Competition](https://www.kaggle.com/c/dm2021-lab2-hw2/) regarding Emotion Recognition on Twitter. The scoring will be given according to your place in the Private Leaderboard ranking: \n",
    "    - **Bottom 40%**: Get 20% of the 30% available for this section.\n",
    "\n",
    "    - **Top 41% - 100%**: Get (60-x)/6 + 20 points, where x is your ranking in the leaderboard (ie. If you rank 3rd your score will be (60-3)/6 + 20 = 29.5% out of 30%)   \n",
    "    Submit your last submission __BEFORE the deadline (Dec. 24th 11:59 pm, Friday)__. Make sure to take a screenshot of your position at the end of the competition and store it as '''pic0.png''' under the **img** folder of this repository and rerun the cell **Student Information**.\n",
    "    \n",
    "\n",
    "3. Third: __This part is worth 30% of your grade.__ A report of your work developping the model for the competition (You can use code and comment it). This report should include what your preprocessing steps, the feature engineering steps and an explanation of your model. You can also mention different things you tried and insights you gained. \n",
    "\n",
    "\n",
    "4. Fourth: __This part is worth 10% of your grade.__ It's hard for us to follow if your code is messy :'(, so please **tidy up your notebook** and **add minimal comments where needed**.\n",
    "\n",
    "\n",
    "Upload your files to your repository then submit the link to it on the corresponding e-learn assignment.\n",
    "\n",
    "Make sure to commit and save your changes to your repository __BEFORE the deadline (Dec. 29th 11:59 pm, Wednesday)__. "
   ]
  },
  {
   "cell_type": "markdown",
   "metadata": {},
   "source": [
    "## 1. Data Preparation\n",
    "### 1.1 Load data\n",
    "1. Read json files\n",
    "2. Split to train and test df\n",
    "3. Append emotions after traon df"
   ]
  },
  {
   "cell_type": "code",
   "execution_count": 1,
   "metadata": {},
   "outputs": [],
   "source": [
    "# Read json data to pd\n",
    "import numpy as np \n",
    "import pandas as pd\n",
    "import json\n",
    "\n",
    "# df = pd.read_json(\"dm2021-lab2-hw2/tweets_DM.json\",lines=True, orient='columns')"
   ]
  },
  {
   "cell_type": "code",
   "execution_count": 2,
   "metadata": {},
   "outputs": [],
   "source": [
    "# # Show df\n",
    "# df.head()"
   ]
  },
  {
   "cell_type": "code",
   "execution_count": 3,
   "metadata": {},
   "outputs": [],
   "source": [
    "# # select '_source' column as 'source'\n",
    "# source = df._source\n",
    "\n",
    "# # normalize 'source'\n",
    "# twit = pd.json_normalize(source)\n",
    "\n",
    "# # show twit\n",
    "# twit.head()"
   ]
  },
  {
   "cell_type": "code",
   "execution_count": 4,
   "metadata": {},
   "outputs": [],
   "source": [
    "# # rename column for merge later\n",
    "\n",
    "# twit = twit.rename(columns={\"tweet.hashtags\": \"hashtags\", \"tweet.tweet_id\": \"tweet_id\", \"tweet.text\": \"text\"})\n",
    "# twit.head()"
   ]
  },
  {
   "cell_type": "code",
   "execution_count": 5,
   "metadata": {},
   "outputs": [],
   "source": [
    "# # to split train test\n",
    "# # read file 'data_identification.csv'\n",
    "\n",
    "# iden = pd.read_csv('dm2021-lab2-hw2/data_identification.csv')\n",
    "# iden.head()"
   ]
  },
  {
   "cell_type": "code",
   "execution_count": 6,
   "metadata": {},
   "outputs": [],
   "source": [
    "# # merge twit dataframe with data_identification.csv\n",
    "\n",
    "# total = pd.merge(twit, iden, on=\"tweet_id\", how=\"left\")\n",
    "# total.head()"
   ]
  },
  {
   "cell_type": "code",
   "execution_count": 7,
   "metadata": {},
   "outputs": [],
   "source": [
    "# # categorize the data into two set, train and test.\n",
    "\n",
    "# train = total[total[\"identification\"] == \"train\"]\n",
    "# test = total[total[\"identification\"] == \"test\"]"
   ]
  },
  {
   "cell_type": "code",
   "execution_count": 8,
   "metadata": {},
   "outputs": [],
   "source": [
    "# # drop hashtags column and identification column, since we will not use it\n",
    "\n",
    "# train = train.drop(columns=['hashtags', 'identification'])\n",
    "# test = test.drop(columns=['hashtags', 'identification'])"
   ]
  },
  {
   "cell_type": "code",
   "execution_count": 9,
   "metadata": {},
   "outputs": [],
   "source": [
    "# train.head()"
   ]
  },
  {
   "cell_type": "code",
   "execution_count": 10,
   "metadata": {},
   "outputs": [],
   "source": [
    "# test.head()"
   ]
  },
  {
   "cell_type": "code",
   "execution_count": 11,
   "metadata": {},
   "outputs": [],
   "source": [
    "# # read the labels\n",
    "# emo = pd.read_csv('dm2021-lab2-hw2/emotion.csv')\n",
    "# emo.head()"
   ]
  },
  {
   "cell_type": "code",
   "execution_count": 12,
   "metadata": {},
   "outputs": [],
   "source": [
    "# # merge train with emotions.csv\n",
    "\n",
    "# train = pd.merge(train, emo, on=\"tweet_id\", how=\"left\")\n",
    "# train.head()"
   ]
  },
  {
   "cell_type": "code",
   "execution_count": 13,
   "metadata": {},
   "outputs": [],
   "source": [
    "# # see the shape of the data\n",
    "\n",
    "# print(\"train shape :\", train.shape)\n",
    "# print(\"test shape :\", test.shape)"
   ]
  },
  {
   "cell_type": "markdown",
   "metadata": {},
   "source": [
    "### 1.2 Save data"
   ]
  },
  {
   "cell_type": "code",
   "execution_count": 14,
   "metadata": {},
   "outputs": [],
   "source": [
    "# # save to pickle file\n",
    "\n",
    "# train.to_pickle(\"train_df.pkl\") \n",
    "# test.to_pickle(\"test_df.pkl\")"
   ]
  },
  {
   "cell_type": "code",
   "execution_count": 15,
   "metadata": {},
   "outputs": [
    {
     "data": {
      "text/plain": [
       "(1455563, 3)"
      ]
     },
     "execution_count": 15,
     "metadata": {},
     "output_type": "execute_result"
    }
   ],
   "source": [
    "# load a pickle file\n",
    "\n",
    "train_df = pd.read_pickle(\"train_df.pkl\")\n",
    "test_df = pd.read_pickle(\"test_df.pkl\")\n",
    "train_df.shape"
   ]
  },
  {
   "cell_type": "markdown",
   "metadata": {},
   "source": [
    "### 1.3 Exploratory data analysis (EDA)"
   ]
  },
  {
   "cell_type": "code",
   "execution_count": 16,
   "metadata": {},
   "outputs": [],
   "source": [
    "#group to find distribution\n",
    "\n",
    "# train_df.groupby(['emotion']).count()['text']"
   ]
  },
  {
   "cell_type": "code",
   "execution_count": 17,
   "metadata": {},
   "outputs": [],
   "source": [
    "# %matplotlib inline\n",
    "# import matplotlib.pyplot as plt\n",
    "\n",
    "# # the histogram of the data\n",
    "# labels = train_df['emotion'].unique()\n",
    "# post_total = len(train_df)\n",
    "# df1 = train_df.groupby(['emotion']).count()['text']\n",
    "# df1 = df1.apply(lambda x: round(x*100/post_total,3))\n",
    "\n",
    "# #plot\n",
    "# fig, ax = plt.subplots(figsize=(10,5))\n",
    "# plt.bar(df1.index,df1.values)\n",
    "\n",
    "# #arrange\n",
    "# plt.ylabel('% of instances')\n",
    "# plt.xlabel('Emotion')\n",
    "# plt.title('Emotion distribution')\n",
    "# plt.grid(True)\n",
    "# plt.show()"
   ]
  },
  {
   "cell_type": "markdown",
   "metadata": {},
   "source": [
    "## 2. Feature Engineering\n",
    "### 2.0 Sample and train/val split "
   ]
  },
  {
   "cell_type": "code",
   "execution_count": 18,
   "metadata": {},
   "outputs": [],
   "source": [
    "# train_df.shape"
   ]
  },
  {
   "cell_type": "code",
   "execution_count": 19,
   "metadata": {},
   "outputs": [],
   "source": [
    "# split data into training and testing set\n",
    "\n",
    "from sklearn.model_selection import train_test_split\n",
    "\n",
    "X = train_df['text']\n",
    "y = train_df['emotion']\n",
    "\n",
    "X_train, X_val, y_train, y_val = train_test_split(X, y, test_size=0.20, random_state=1)"
   ]
  },
  {
   "cell_type": "code",
   "execution_count": 20,
   "metadata": {},
   "outputs": [],
   "source": [
    "# # see the shape of the data\n",
    "\n",
    "# print('X_train', X_train.shape)\n",
    "# print('y_train', y_train.shape)\n",
    "# print('X_val', X_val.shape)\n",
    "# print('y_val', y_val.shape)"
   ]
  },
  {
   "cell_type": "markdown",
   "metadata": {},
   "source": [
    "### 2.1 Using Bag of Words"
   ]
  },
  {
   "cell_type": "code",
   "execution_count": 21,
   "metadata": {},
   "outputs": [],
   "source": [
    "from sklearn.feature_extraction.text import CountVectorizer\n",
    "def BOW():\n",
    "    # build analyzers (bag-of-words)\n",
    "    BOW_vectorizer = CountVectorizer() \n",
    "    \n",
    "    # 1. Learn a vocabulary dictionary of all tokens in the raw documents.\n",
    "    BOW_vectorizer.fit(X_train)\n",
    "\n",
    "    # 2. Transform documents to document-term matrix.\n",
    "    train_data_BOW_features = BOW_vectorizer.transform(X_train)\n",
    "    val_data_BOW_features = BOW_vectorizer.transform(X_val)\n",
    "    \n",
    "    #  add .toarray() to show\n",
    "    train_data_BOW_features.toarray()\n",
    "    \n",
    "    # check the dimension\n",
    "    print ('shape: ', train_data_BOW_features.shape)\n",
    "    \n",
    "    # observe some feature names\n",
    "    feature_names = BOW_vectorizer.get_feature_names()\n",
    "    print (feature_names[100:110])\n",
    "    print (\"😂\" in feature_names)\n",
    "    return BOW_vectorizer"
   ]
  },
  {
   "cell_type": "markdown",
   "metadata": {},
   "source": [
    "### 2.2 Use nltk tokenize"
   ]
  },
  {
   "cell_type": "code",
   "execution_count": 22,
   "metadata": {},
   "outputs": [],
   "source": [
    "import nltk\n",
    "def NLTK():\n",
    "    # build analyzers (bag-of-words)\n",
    "    BOW_500 = CountVectorizer(max_features=500, tokenizer=nltk.word_tokenize) \n",
    "\n",
    "    # apply analyzer to training data\n",
    "    BOW_500.fit(X_train)\n",
    "\n",
    "    train_data_BOW_features_500 = BOW_500.transform(X_train)\n",
    "\n",
    "    ## check dimension\n",
    "    print ('shape:', train_data_BOW_features_500.shape)\n",
    "    \n",
    "    train_data_BOW_features_500.toarray()\n",
    "    \n",
    "    # observe some feature names\n",
    "    feature_names_500 = BOW_500.get_feature_names()\n",
    "    print (feature_names_500[:10])\n",
    "    print (\"😂\" in feature_names)\n",
    "    return BOW_500"
   ]
  },
  {
   "cell_type": "markdown",
   "metadata": {},
   "source": [
    "### 2.3 TFIDF"
   ]
  },
  {
   "cell_type": "code",
   "execution_count": 42,
   "metadata": {},
   "outputs": [],
   "source": [
    "from sklearn.feature_extraction.text import TfidfVectorizer\n",
    "\n",
    "def TFIDF():\n",
    "    TFIDF_500 = TfidfVectorizer(max_features=20000, tokenizer=nltk.word_tokenize, stop_words='english')\n",
    "    TFIDF_500.fit(X_train)\n",
    "#     train_data_TFIDF_features_500 = TFIDF_500.transform(X_train)\n",
    "#     print ('shape: ', train_data_TFIDF_features_500.shape)\n",
    "#     train_data_TFIDF_features_500.toarray()\n",
    "#     feature_names_500 = TFIDF_500.get_feature_names()\n",
    "#     print (feature_names_500[:10])\n",
    "#     print (\"😂\" in feature_names_500)\n",
    "    return TFIDF_500"
   ]
  },
  {
   "cell_type": "code",
   "execution_count": 43,
   "metadata": {},
   "outputs": [
    {
     "name": "stderr",
     "output_type": "stream",
     "text": [
      "/Users/zhaoyuhan/opt/anaconda3/lib/python3.8/site-packages/sklearn/feature_extraction/text.py:489: UserWarning: The parameter 'token_pattern' will not be used since 'tokenizer' is not None'\n",
      "  warnings.warn(\"The parameter 'token_pattern' will not be used\"\n"
     ]
    }
   ],
   "source": [
    "# Choose the type of features\n",
    "featureType = TFIDF()"
   ]
  },
  {
   "cell_type": "markdown",
   "metadata": {},
   "source": [
    "## Models"
   ]
  },
  {
   "cell_type": "code",
   "execution_count": 44,
   "metadata": {},
   "outputs": [],
   "source": [
    "# Choose feature (BOW_500 / TFIDF_500)\n",
    "# featureType = BOW_500 \n",
    "\n",
    "# for a classificaiton problem, you need to provide both training & testing data\n",
    "X_train_f = featureType.transform(X_train)\n",
    "X_val_f = featureType.transform(X_val)\n",
    "\n",
    "# for whole dataset\n",
    "X_f = featureType.transform(X)"
   ]
  },
  {
   "cell_type": "code",
   "execution_count": 26,
   "metadata": {},
   "outputs": [
    {
     "name": "stdout",
     "output_type": "stream",
     "text": [
      "X_train.shape:  (1164450, 10000)\n",
      "y_train.shape:  (1164450,)\n",
      "X_val.shape:  (291113, 10000)\n",
      "y_val.shape:  (291113,)\n"
     ]
    }
   ],
   "source": [
    "## take a look at data dimension is a good habbit  :)\n",
    "print('X_train.shape: ', X_train_f.shape)\n",
    "print('y_train.shape: ', y_train.shape)\n",
    "print('X_val.shape: ', X_val_f.shape)\n",
    "print('y_val.shape: ', y_val.shape)"
   ]
  },
  {
   "cell_type": "markdown",
   "metadata": {},
   "source": [
    "### 3.1 Decision Tree"
   ]
  },
  {
   "cell_type": "code",
   "execution_count": 27,
   "metadata": {},
   "outputs": [],
   "source": [
    "from sklearn.tree import DecisionTreeClassifier\n",
    "def DecisionTree():\n",
    "    ## build DecisionTree model\n",
    "    DT_model = DecisionTreeClassifier(random_state=0)\n",
    "\n",
    "    ## training!\n",
    "    DT_model = DT_model.fit(X_train_f, y_train)\n",
    "\n",
    "    ## predict!\n",
    "    y_train_pred = DT_model.predict(X_train_f)\n",
    "    y_val_pred = DT_model.predict(X_val_f)\n",
    "\n",
    "    ## so we get the pred result\n",
    "    print (y_val_pred[:10])\n",
    "    return y_train_pred, y_val_pred, DT_model"
   ]
  },
  {
   "cell_type": "markdown",
   "metadata": {},
   "source": [
    "* with all training_split data, 500 TFIDF features.  \n",
    "training accuracy: 0.89  \n",
    "testing accuracy: 0.42  "
   ]
  },
  {
   "cell_type": "markdown",
   "metadata": {},
   "source": [
    "### 3.2 Naive Bayes"
   ]
  },
  {
   "cell_type": "code",
   "execution_count": 28,
   "metadata": {},
   "outputs": [],
   "source": [
    "from sklearn.naive_bayes import MultinomialNB\n",
    "def NaiveBayes():\n",
    "    NB_model = MultinomialNB()\n",
    "    \n",
    "    # training!\n",
    "    NB_model = NB_model.fit(X_train_f, y_train)\n",
    "    \n",
    "    ## predict!\n",
    "    y_train_pred = NB_model.predict(X_train_f)\n",
    "    y_val_pred = NB_model.predict(X_val_f)\n",
    "\n",
    "    ## so we get the pred result\n",
    "    print (y_val_pred[:10])\n",
    "    \n",
    "    return y_train_pred, y_val_pred, NB_model"
   ]
  },
  {
   "cell_type": "markdown",
   "metadata": {},
   "source": [
    "### 3.3 Random Forest"
   ]
  },
  {
   "cell_type": "code",
   "execution_count": 29,
   "metadata": {},
   "outputs": [],
   "source": [
    "from sklearn.ensemble import RandomForestClassifier\n",
    "def RandomForest():\n",
    "    RF_model = RandomForestClassifier(criterion='entropy', n_estimators=10, random_state=0, n_jobs= -1,\n",
    "                                    max_depth=11, max_features='log2', verbose=1)\n",
    "    \n",
    "    # Training\n",
    "    RF_model = RF_model.fit(X_train_f, y_train)\n",
    "    \n",
    "    # Tesing\n",
    "    y_train_pred = RF_model.predict(X_train_f)\n",
    "    y_val_pred = RF_model.predict(X_val_f)\n",
    "    \n",
    "    # so we get the pred result\n",
    "    print (y_val_pred[:10])\n",
    "    \n",
    "    return y_train_pred, y_val_pred, RF_model"
   ]
  },
  {
   "cell_type": "markdown",
   "metadata": {},
   "source": [
    "* with all training_split data, 500 TFIDF features:  \n",
    "training accuracy: 0.39  \n",
    "testing accuracy: 0.38  \n",
    "tend to predict all to \"joy\""
   ]
  },
  {
   "cell_type": "markdown",
   "metadata": {},
   "source": [
    "### 3.4 Logistic Regression"
   ]
  },
  {
   "cell_type": "code",
   "execution_count": 45,
   "metadata": {},
   "outputs": [],
   "source": [
    "from sklearn.linear_model import LogisticRegression\n",
    "def Logistic():\n",
    "    LR_model = LogisticRegression(C=1000, penalty=\"l2\")\n",
    "    \n",
    "    # Training\n",
    "    LR_model = LR_model.fit(X_train_f, y_train)\n",
    "    \n",
    "    # Testing\n",
    "    y_train_pred = LR_model.predict(X_train_f)\n",
    "    y_val_pred = LR_model.predict(X_val_f)\n",
    "    \n",
    "    # so we get the pred result\n",
    "    print (y_val_pred[:10])\n",
    "    \n",
    "    return y_train_pred, y_val_pred, LR_model"
   ]
  },
  {
   "cell_type": "markdown",
   "metadata": {},
   "source": [
    "* with all triaining_split data, 2000 TFIDF features:  \n",
    "training accuracy: 0.51  \n",
    "testing accuracy: 0.51\n",
    "* with all training_split data, 5000 TFIDF features:  \n",
    "training accuracy: 0.53  \n",
    "testing accuracy: 0.52  \n",
    "kaggle: 0.42992\n",
    "* with all training_split data, 20000 TFIDF features:  \n",
    "training accuracy: 0.55  \n",
    "testing accuracy: 0.54  "
   ]
  },
  {
   "cell_type": "code",
   "execution_count": 46,
   "metadata": {},
   "outputs": [
    {
     "name": "stdout",
     "output_type": "stream",
     "text": [
      "['trust' 'joy' 'joy' 'anticipation' 'joy' 'trust' 'anticipation' 'joy'\n",
      " 'trust' 'joy']\n"
     ]
    },
    {
     "name": "stderr",
     "output_type": "stream",
     "text": [
      "/Users/zhaoyuhan/opt/anaconda3/lib/python3.8/site-packages/sklearn/linear_model/_logistic.py:763: ConvergenceWarning: lbfgs failed to converge (status=1):\n",
      "STOP: TOTAL NO. of ITERATIONS REACHED LIMIT.\n",
      "\n",
      "Increase the number of iterations (max_iter) or scale the data as shown in:\n",
      "    https://scikit-learn.org/stable/modules/preprocessing.html\n",
      "Please also refer to the documentation for alternative solver options:\n",
      "    https://scikit-learn.org/stable/modules/linear_model.html#logistic-regression\n",
      "  n_iter_i = _check_optimize_result(\n"
     ]
    }
   ],
   "source": [
    "y_train_pred, y_val_pred, model = Logistic()"
   ]
  },
  {
   "cell_type": "code",
   "execution_count": 47,
   "metadata": {},
   "outputs": [],
   "source": [
    "    # save model\n",
    "    import pickle\n",
    "    f = open('Model/RLmodel_TF20000.pickle', 'wb')\n",
    "    pickle.dump(model, f)\n",
    "    f.close()"
   ]
  },
  {
   "cell_type": "markdown",
   "metadata": {},
   "source": [
    "## Evaluation "
   ]
  },
  {
   "cell_type": "code",
   "execution_count": 48,
   "metadata": {},
   "outputs": [
    {
     "name": "stdout",
     "output_type": "stream",
     "text": [
      "training accuracy: 0.55\n",
      "testing accuracy: 0.54\n"
     ]
    }
   ],
   "source": [
    "## accuracy\n",
    "from sklearn.metrics import accuracy_score\n",
    "\n",
    "acc_train = accuracy_score(y_true=y_train, y_pred=y_train_pred)\n",
    "acc_val = accuracy_score(y_true=y_val, y_pred=y_val_pred)\n",
    "\n",
    "print('training accuracy: {}'.format(round(acc_train, 2)))\n",
    "print('testing accuracy: {}'.format(round(acc_val, 2)))"
   ]
  },
  {
   "cell_type": "code",
   "execution_count": 49,
   "metadata": {},
   "outputs": [
    {
     "name": "stdout",
     "output_type": "stream",
     "text": [
      "              precision    recall  f1-score   support\n",
      "\n",
      "       anger       0.57      0.21      0.31      8021\n",
      "anticipation       0.58      0.52      0.55     50164\n",
      "     disgust       0.46      0.38      0.42     27672\n",
      "        fear       0.66      0.35      0.46     13007\n",
      "         joy       0.53      0.80      0.64    102799\n",
      "     sadness       0.50      0.47      0.48     38812\n",
      "    surprise       0.56      0.19      0.28      9695\n",
      "       trust       0.56      0.27      0.37     40943\n",
      "\n",
      "    accuracy                           0.54    291113\n",
      "   macro avg       0.55      0.40      0.44    291113\n",
      "weighted avg       0.54      0.54      0.52    291113\n",
      "\n"
     ]
    }
   ],
   "source": [
    "## precision, recall, f1-score,\n",
    "from sklearn.metrics import classification_report\n",
    "\n",
    "print(classification_report(y_true=y_val, y_pred=y_val_pred))"
   ]
  },
  {
   "cell_type": "code",
   "execution_count": 50,
   "metadata": {},
   "outputs": [
    {
     "name": "stdout",
     "output_type": "stream",
     "text": [
      "[[ 1698   613  1258    86  2772  1361    60   173]\n",
      " [  143 26123  1324   413 17700  2347   194  1920]\n",
      " [  352  1568 10493   322  8399  5710   261   567]\n",
      " [   91  1103   772  4583  4759  1277   115   307]\n",
      " [  266  7858  2378   764 82407  4058   340  4728]\n",
      " [  310  2325  4450   424 12109 18145   329   720]\n",
      " [   57   715  1028   141  4204  1481  1845   224]\n",
      " [   86  4515  1183   248 21772  1901   149 11089]]\n"
     ]
    }
   ],
   "source": [
    "## check by confusion matrix\n",
    "from sklearn.metrics import confusion_matrix\n",
    "\n",
    "cm = confusion_matrix(y_true=y_val, y_pred=y_val_pred) \n",
    "print(cm)"
   ]
  },
  {
   "cell_type": "code",
   "execution_count": 51,
   "metadata": {},
   "outputs": [],
   "source": [
    "# Funciton for visualizing confusion_matrix\n",
    "import matplotlib.pyplot as plt\n",
    "import seaborn as sns\n",
    "import numpy as np\n",
    "import itertools\n",
    "\n",
    "def plot_confusion_matrix(cm, classes, title='Confusion matrix',\n",
    "                          cmap=sns.cubehelix_palette(as_cmap=True)):\n",
    "    \"\"\"\n",
    "    This function is modified from: \n",
    "    http://scikit-learn.org/stable/auto_examples/model_selection/plot_confusion_matrix.html\n",
    "    \"\"\"\n",
    "    classes.sort()\n",
    "    tick_marks = np.arange(len(classes))    \n",
    "    \n",
    "    fig, ax = plt.subplots(figsize=(8,8))\n",
    "    im = ax.imshow(cm, interpolation='nearest', cmap=cmap)\n",
    "    ax.figure.colorbar(im, ax=ax)\n",
    "    ax.set(xticks=np.arange(cm.shape[1]),\n",
    "           yticks=np.arange(cm.shape[0]),\n",
    "           xticklabels = classes,\n",
    "           yticklabels = classes,\n",
    "           title = title,\n",
    "           xlabel = 'True label',\n",
    "           ylabel = 'Predicted label')\n",
    "\n",
    "    fmt = 'd'\n",
    "    thresh = cm.max() / 2.\n",
    "    for i, j in itertools.product(range(cm.shape[0]), range(cm.shape[1])):\n",
    "        plt.text(j, i, format(cm[i, j], fmt), horizontalalignment=\"center\", color=\"white\" if cm[i, j] > thresh else \"black\")\n",
    "    ylim_top = len(classes) - 0.5\n",
    "    plt.ylim([ylim_top, -.5])\n",
    "    plt.tight_layout()\n",
    "    plt.show()"
   ]
  },
  {
   "cell_type": "code",
   "execution_count": 52,
   "metadata": {},
   "outputs": [
    {
     "data": {
      "image/png": "[encoded data removed]",
      "text/plain": [
       "<Figure size 576x576 with 2 Axes>"
      ]
     },
     "metadata": {
      "needs_background": "light"
     },
     "output_type": "display_data"
    }
   ],
   "source": [
    "# plot your confusion matrix\n",
    "my_tags = ['anger', 'anticipation', 'disgust', 'fear', 'sadness', 'surprise', 'trust', 'joy']\n",
    "plot_confusion_matrix(cm, classes=my_tags, title='Confusion matrix')"
   ]
  },
  {
   "cell_type": "markdown",
   "metadata": {},
   "source": [
    "## Output Result"
   ]
  },
  {
   "cell_type": "code",
   "execution_count": 53,
   "metadata": {},
   "outputs": [
    {
     "name": "stdout",
     "output_type": "stream",
     "text": [
      "X_test.shape:  (411972, 20000)\n",
      "['anticipation' 'anticipation' 'disgust' 'joy' 'anticipation' 'joy' 'joy'\n",
      " 'sadness' 'joy' 'sadness']\n"
     ]
    }
   ],
   "source": [
    "# Load data\n",
    "X_test = test_df['text']\n",
    "\n",
    "# Transform X\n",
    "X_test = featureType.transform(X_test)\n",
    "print('X_test.shape: ', X_test.shape)\n",
    "\n",
    "# Predict\n",
    "y_test_pred = model.predict(X_test)\n",
    "print (y_test_pred[:10])"
   ]
  },
  {
   "cell_type": "code",
   "execution_count": 54,
   "metadata": {},
   "outputs": [
    {
     "data": {
      "text/html": [
       "<div>\n",
       "<style scoped>\n",
       "    .dataframe tbody tr th:only-of-type {\n",
       "        vertical-align: middle;\n",
       "    }\n",
       "\n",
       "    .dataframe tbody tr th {\n",
       "        vertical-align: top;\n",
       "    }\n",
       "\n",
       "    .dataframe thead th {\n",
       "        text-align: right;\n",
       "    }\n",
       "</style>\n",
       "<table border=\"1\" class=\"dataframe\">\n",
       "  <thead>\n",
       "    <tr style=\"text-align: right;\">\n",
       "      <th></th>\n",
       "      <th>id</th>\n",
       "      <th>emotion</th>\n",
       "    </tr>\n",
       "  </thead>\n",
       "  <tbody>\n",
       "    <tr>\n",
       "      <th>2</th>\n",
       "      <td>0x28b412</td>\n",
       "      <td>anticipation</td>\n",
       "    </tr>\n",
       "    <tr>\n",
       "      <th>4</th>\n",
       "      <td>0x2de201</td>\n",
       "      <td>anticipation</td>\n",
       "    </tr>\n",
       "    <tr>\n",
       "      <th>9</th>\n",
       "      <td>0x218443</td>\n",
       "      <td>disgust</td>\n",
       "    </tr>\n",
       "    <tr>\n",
       "      <th>30</th>\n",
       "      <td>0x2939d5</td>\n",
       "      <td>joy</td>\n",
       "    </tr>\n",
       "    <tr>\n",
       "      <th>33</th>\n",
       "      <td>0x26289a</td>\n",
       "      <td>anticipation</td>\n",
       "    </tr>\n",
       "  </tbody>\n",
       "</table>\n",
       "</div>"
      ],
      "text/plain": [
       "          id       emotion\n",
       "2   0x28b412  anticipation\n",
       "4   0x2de201  anticipation\n",
       "9   0x218443       disgust\n",
       "30  0x2939d5           joy\n",
       "33  0x26289a  anticipation"
      ]
     },
     "execution_count": 54,
     "metadata": {},
     "output_type": "execute_result"
    }
   ],
   "source": [
    "# Submission\n",
    "submission = pd.DataFrame({'id':test_df['tweet_id'],'emotion':y_test_pred})\n",
    "submission.head()"
   ]
  },
  {
   "cell_type": "code",
   "execution_count": 55,
   "metadata": {},
   "outputs": [
    {
     "data": {
      "text/plain": [
       "(411972, 2)"
      ]
     },
     "execution_count": 55,
     "metadata": {},
     "output_type": "execute_result"
    }
   ],
   "source": [
    "# Check the shape\n",
    "submission.shape"
   ]
  },
  {
   "cell_type": "code",
   "execution_count": 56,
   "metadata": {},
   "outputs": [
    {
     "name": "stdout",
     "output_type": "stream",
     "text": [
      "Saved file: LR_TFIDF20000.csv\n"
     ]
    }
   ],
   "source": [
    "path = 'Result/'\n",
    "filename = 'LR_TFIDF20000.csv'\n",
    "submission.to_csv(path+filename, index=False)\n",
    "print('Saved file: ' + filename)"
   ]
  },
  {
   "cell_type": "code",
   "execution_count": null,
   "metadata": {},
   "outputs": [],
   "source": []
  },
  {
   "cell_type": "code",
   "execution_count": null,
   "metadata": {},
   "outputs": [],
   "source": []
  }
 ],
 "metadata": {
  "kernelspec": {
   "display_name": "Python 3",
   "language": "python",
   "name": "python3"
  },
  "language_info": {
   "codemirror_mode": {
    "name": "ipython",
    "version": 3
   },
   "file_extension": ".py",
   "mimetype": "text/x-python",
   "name": "python",
   "nbconvert_exporter": "python",
   "pygments_lexer": "ipython3",
   "version": "3.8.8"
  },
  "varInspector": {
   "cols": {
    "lenName": 16,
    "lenType": 16,
    "lenVar": 40
   },
   "kernels_config": {
    "python": {
     "delete_cmd_postfix": "",
     "delete_cmd_prefix": "del ",
     "library": "var_list.py",
     "varRefreshCmd": "print(var_dic_list())"
    },
    "r": {
     "delete_cmd_postfix": ") ",
     "delete_cmd_prefix": "rm(",
     "library": "var_list.r",
     "varRefreshCmd": "cat(var_dic_list()) "
    }
   },
   "types_to_exclude": [
    "module",
    "function",
    "builtin_function_or_method",
    "instance",
    "_Feature"
   ],
   "window_display": false
  }
 },
 "nbformat": 4,
 "nbformat_minor": 4
}
