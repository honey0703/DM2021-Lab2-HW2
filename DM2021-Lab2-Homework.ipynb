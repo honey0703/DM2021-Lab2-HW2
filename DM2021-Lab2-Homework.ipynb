{
 "cells": [
  {
   "cell_type": "markdown",
   "metadata": {},
   "source": [
    "### Student Information\n",
    "Name: Yu-Han Zhao 趙宇涵\n",
    "\n",
    "Student ID: 110033635\n",
    "\n",
    "GitHub ID: honey0703\n",
    "\n",
    "Kaggle name: honey0703\n",
    "\n",
    "Kaggle private scoreboard snapshot:\n",
    "\n",
    "[Snapshot](img/pic0.png)"
   ]
  },
  {
   "cell_type": "markdown",
   "metadata": {},
   "source": [
    "---"
   ]
  },
  {
   "cell_type": "markdown",
   "metadata": {},
   "source": [
    "### Instructions"
   ]
  },
  {
   "cell_type": "markdown",
   "metadata": {},
   "source": [
    "1. First: __This part is worth 30% of your grade.__ Do the **take home** exercises in the [DM2021-Lab2-master Repo](https://github.com/fhcalderon87/DM2021-Lab2-master). You may need to copy some cells from the Lab notebook to this notebook. \n",
    "\n",
    "\n",
    "2. Second: __This part is worth 30% of your grade.__ Participate in the in-class [Kaggle Competition](https://www.kaggle.com/c/dm2021-lab2-hw2/) regarding Emotion Recognition on Twitter. The scoring will be given according to your place in the Private Leaderboard ranking: \n",
    "    - **Bottom 40%**: Get 20% of the 30% available for this section.\n",
    "\n",
    "    - **Top 41% - 100%**: Get (60-x)/6 + 20 points, where x is your ranking in the leaderboard (ie. If you rank 3rd your score will be (60-3)/6 + 20 = 29.5% out of 30%)   \n",
    "    Submit your last submission __BEFORE the deadline (Dec. 24th 11:59 pm, Friday)__. Make sure to take a screenshot of your position at the end of the competition and store it as '''pic0.png''' under the **img** folder of this repository and rerun the cell **Student Information**.\n",
    "    \n",
    "\n",
    "3. Third: __This part is worth 30% of your grade.__ A report of your work developping the model for the competition (You can use code and comment it). This report should include what your preprocessing steps, the feature engineering steps and an explanation of your model. You can also mention different things you tried and insights you gained. \n",
    "\n",
    "\n",
    "4. Fourth: __This part is worth 10% of your grade.__ It's hard for us to follow if your code is messy :'(, so please **tidy up your notebook** and **add minimal comments where needed**.\n",
    "\n",
    "\n",
    "Upload your files to your repository then submit the link to it on the corresponding e-learn assignment.\n",
    "\n",
    "Make sure to commit and save your changes to your repository __BEFORE the deadline (Dec. 29th 11:59 pm, Wednesday)__. "
   ]
  },
  {
   "cell_type": "markdown",
   "metadata": {},
   "source": [
    "## 1. Data Preparation\n",
    "### 1.1 Load data\n",
    "1. Read json files\n",
    "2. Split to train and test df\n",
    "3. Append emotions after traon df"
   ]
  },
  {
   "cell_type": "code",
   "execution_count": 79,
   "metadata": {},
   "outputs": [],
   "source": [
    "# Parameter setting\n",
    "featureNumber = 20000"
   ]
  },
  {
   "cell_type": "code",
   "execution_count": 2,
   "metadata": {},
   "outputs": [],
   "source": [
    "# Read json data to pd\n",
    "import numpy as np \n",
    "import pandas as pd\n",
    "import json\n",
    "\n",
    "# df = pd.read_json(\"dm2021-lab2-hw2/tweets_DM.json\",lines=True, orient='columns')"
   ]
  },
  {
   "cell_type": "code",
   "execution_count": 3,
   "metadata": {},
   "outputs": [],
   "source": [
    "# # Show df\n",
    "# df.head()"
   ]
  },
  {
   "cell_type": "code",
   "execution_count": 4,
   "metadata": {},
   "outputs": [],
   "source": [
    "# # select '_source' column as 'source'\n",
    "# source = df._source\n",
    "\n",
    "# # normalize 'source'\n",
    "# twit = pd.json_normalize(source)\n",
    "\n",
    "# # show twit\n",
    "# twit.head()"
   ]
  },
  {
   "cell_type": "code",
   "execution_count": 5,
   "metadata": {},
   "outputs": [],
   "source": [
    "# # rename column for merge later\n",
    "\n",
    "# twit = twit.rename(columns={\"tweet.hashtags\": \"hashtags\", \"tweet.tweet_id\": \"tweet_id\", \"tweet.text\": \"text\"})\n",
    "# twit.head()"
   ]
  },
  {
   "cell_type": "code",
   "execution_count": 6,
   "metadata": {},
   "outputs": [],
   "source": [
    "# # to split train test\n",
    "# # read file 'data_identification.csv'\n",
    "\n",
    "# iden = pd.read_csv('dm2021-lab2-hw2/data_identification.csv')\n",
    "# iden.head()"
   ]
  },
  {
   "cell_type": "code",
   "execution_count": 7,
   "metadata": {},
   "outputs": [],
   "source": [
    "# # merge twit dataframe with data_identification.csv\n",
    "\n",
    "# total = pd.merge(twit, iden, on=\"tweet_id\", how=\"left\")\n",
    "# total.head()"
   ]
  },
  {
   "cell_type": "code",
   "execution_count": 8,
   "metadata": {},
   "outputs": [],
   "source": [
    "# # categorize the data into two set, train and test.\n",
    "\n",
    "# train = total[total[\"identification\"] == \"train\"]\n",
    "# test = total[total[\"identification\"] == \"test\"]"
   ]
  },
  {
   "cell_type": "code",
   "execution_count": 9,
   "metadata": {},
   "outputs": [],
   "source": [
    "# # drop hashtags column and identification column, since we will not use it\n",
    "\n",
    "# train = train.drop(columns=['hashtags', 'identification'])\n",
    "# test = test.drop(columns=['hashtags', 'identification'])"
   ]
  },
  {
   "cell_type": "code",
   "execution_count": 10,
   "metadata": {},
   "outputs": [],
   "source": [
    "# train.head()"
   ]
  },
  {
   "cell_type": "code",
   "execution_count": 11,
   "metadata": {},
   "outputs": [],
   "source": [
    "# test.head()"
   ]
  },
  {
   "cell_type": "code",
   "execution_count": 12,
   "metadata": {},
   "outputs": [],
   "source": [
    "# # read the labels\n",
    "# emo = pd.read_csv('dm2021-lab2-hw2/emotion.csv')\n",
    "# emo.head()"
   ]
  },
  {
   "cell_type": "code",
   "execution_count": 13,
   "metadata": {},
   "outputs": [],
   "source": [
    "# # merge train with emotions.csv\n",
    "\n",
    "# train = pd.merge(train, emo, on=\"tweet_id\", how=\"left\")\n",
    "# train.head()"
   ]
  },
  {
   "cell_type": "code",
   "execution_count": 14,
   "metadata": {},
   "outputs": [],
   "source": [
    "# # see the shape of the data\n",
    "\n",
    "# print(\"train shape :\", train.shape)\n",
    "# print(\"test shape :\", test.shape)"
   ]
  },
  {
   "cell_type": "markdown",
   "metadata": {},
   "source": [
    "### 1.2 Save data"
   ]
  },
  {
   "cell_type": "code",
   "execution_count": 15,
   "metadata": {},
   "outputs": [],
   "source": [
    "# # save to pickle file\n",
    "\n",
    "# train.to_pickle(\"train_df.pkl\") \n",
    "# test.to_pickle(\"test_df.pkl\")"
   ]
  },
  {
   "cell_type": "code",
   "execution_count": 16,
   "metadata": {},
   "outputs": [
    {
     "data": {
      "text/plain": [
       "(1455563, 3)"
      ]
     },
     "execution_count": 16,
     "metadata": {},
     "output_type": "execute_result"
    }
   ],
   "source": [
    "# load a pickle file\n",
    "\n",
    "train_df = pd.read_pickle(\"train_df.pkl\")\n",
    "test_df = pd.read_pickle(\"test_df.pkl\")\n",
    "train_df.shape"
   ]
  },
  {
   "cell_type": "markdown",
   "metadata": {},
   "source": [
    "### 1.3 Exploratory data analysis (EDA)"
   ]
  },
  {
   "cell_type": "code",
   "execution_count": 17,
   "metadata": {},
   "outputs": [],
   "source": [
    "#group to find distribution\n",
    "\n",
    "# train_df.groupby(['emotion']).count()['text']"
   ]
  },
  {
   "cell_type": "code",
   "execution_count": 18,
   "metadata": {},
   "outputs": [],
   "source": [
    "# %matplotlib inline\n",
    "# import matplotlib.pyplot as plt\n",
    "\n",
    "# # the histogram of the data\n",
    "# labels = train_df['emotion'].unique()\n",
    "# post_total = len(train_df)\n",
    "# df1 = train_df.groupby(['emotion']).count()['text']\n",
    "# df1 = df1.apply(lambda x: round(x*100/post_total,3))\n",
    "\n",
    "# #plot\n",
    "# fig, ax = plt.subplots(figsize=(10,5))\n",
    "# plt.bar(df1.index,df1.values)\n",
    "\n",
    "# #arrange\n",
    "# plt.ylabel('% of instances')\n",
    "# plt.xlabel('Emotion')\n",
    "# plt.title('Emotion distribution')\n",
    "# plt.grid(True)\n",
    "# plt.show()"
   ]
  },
  {
   "cell_type": "markdown",
   "metadata": {},
   "source": [
    "## 2. Feature Engineering\n",
    "### 2.0 Sample and train/val split "
   ]
  },
  {
   "cell_type": "code",
   "execution_count": 19,
   "metadata": {},
   "outputs": [],
   "source": [
    "# train_df.shape"
   ]
  },
  {
   "cell_type": "code",
   "execution_count": 20,
   "metadata": {},
   "outputs": [],
   "source": [
    "# split data into training and testing set\n",
    "\n",
    "from sklearn.model_selection import train_test_split\n",
    "\n",
    "X = train_df['text']\n",
    "y = train_df['emotion']\n",
    "\n",
    "X_train, X_val, y_train, y_val = train_test_split(X, y, test_size=0.20, random_state=1)"
   ]
  },
  {
   "cell_type": "code",
   "execution_count": 21,
   "metadata": {},
   "outputs": [],
   "source": [
    "# # see the shape of the data\n",
    "\n",
    "# print('X_train', X_train.shape)\n",
    "# print('y_train', y_train.shape)\n",
    "# print('X_val', X_val.shape)\n",
    "# print('y_val', y_val.shape)"
   ]
  },
  {
   "cell_type": "markdown",
   "metadata": {},
   "source": [
    "### 2.1 Using Bag of Words"
   ]
  },
  {
   "cell_type": "code",
   "execution_count": 22,
   "metadata": {},
   "outputs": [],
   "source": [
    "from sklearn.feature_extraction.text import CountVectorizer\n",
    "def BOW():\n",
    "    # build analyzers (bag-of-words)\n",
    "    BOW_vectorizer = CountVectorizer() \n",
    "    \n",
    "    # 1. Learn a vocabulary dictionary of all tokens in the raw documents.\n",
    "    BOW_vectorizer.fit(X_train)\n",
    "\n",
    "    # 2. Transform documents to document-term matrix.\n",
    "    train_data_BOW_features = BOW_vectorizer.transform(X_train)\n",
    "    val_data_BOW_features = BOW_vectorizer.transform(X_val)\n",
    "    \n",
    "    #  add .toarray() to show\n",
    "    train_data_BOW_features.toarray()\n",
    "    \n",
    "    # check the dimension\n",
    "    print ('shape: ', train_data_BOW_features.shape)\n",
    "    \n",
    "    # observe some feature names\n",
    "    feature_names = BOW_vectorizer.get_feature_names()\n",
    "    print (feature_names[100:110])\n",
    "    print (\"😂\" in feature_names)\n",
    "    return BOW_vectorizer"
   ]
  },
  {
   "cell_type": "markdown",
   "metadata": {},
   "source": [
    "### 2.2 Use nltk tokenize"
   ]
  },
  {
   "cell_type": "code",
   "execution_count": 23,
   "metadata": {},
   "outputs": [],
   "source": [
    "import nltk\n",
    "def NLTK():\n",
    "    # build analyzers (bag-of-words)\n",
    "    BOW_500 = CountVectorizer(max_features=featureNumber, tokenizer=nltk.word_tokenize) \n",
    "\n",
    "    # apply analyzer to training data\n",
    "    BOW_500.fit(X_train)\n",
    "\n",
    "    train_data_BOW_features_500 = BOW_500.transform(X_train)\n",
    "\n",
    "    ## check dimension\n",
    "    print ('shape:', train_data_BOW_features_500.shape)\n",
    "    \n",
    "    train_data_BOW_features_500.toarray()\n",
    "    \n",
    "    # observe some feature names\n",
    "    feature_names_500 = BOW_500.get_feature_names()\n",
    "    print (feature_names_500[:10])\n",
    "    print (\"😂\" in feature_names)\n",
    "    return BOW_500"
   ]
  },
  {
   "cell_type": "markdown",
   "metadata": {},
   "source": [
    "### 2.3 TFIDF"
   ]
  },
  {
   "cell_type": "code",
   "execution_count": 80,
   "metadata": {},
   "outputs": [],
   "source": [
    "from sklearn.feature_extraction.text import TfidfVectorizer\n",
    "\n",
    "def TFIDF():\n",
    "    TFIDF_500 = TfidfVectorizer(max_features=featureNumber, tokenizer=nltk.word_tokenize, stop_words='english')\n",
    "    TFIDF_500.fit(X_train)\n",
    "#     train_data_TFIDF_features_500 = TFIDF_500.transform(X_train)\n",
    "#     print ('shape: ', train_data_TFIDF_features_500.shape)\n",
    "#     train_data_TFIDF_features_500.toarray()\n",
    "#     feature_names_500 = TFIDF_500.get_feature_names()\n",
    "#     print (feature_names_500[:10])\n",
    "#     print (\"😂\" in feature_names_500)\n",
    "    return TFIDF_500"
   ]
  },
  {
   "cell_type": "code",
   "execution_count": 81,
   "metadata": {},
   "outputs": [
    {
     "name": "stderr",
     "output_type": "stream",
     "text": [
      "/Users/zhaoyuhan/opt/anaconda3/lib/python3.8/site-packages/sklearn/feature_extraction/text.py:489: UserWarning: The parameter 'token_pattern' will not be used since 'tokenizer' is not None'\n",
      "  warnings.warn(\"The parameter 'token_pattern' will not be used\"\n"
     ]
    }
   ],
   "source": [
    "# Choose the type of features\n",
    "featureType = TFIDF()"
   ]
  },
  {
   "cell_type": "markdown",
   "metadata": {},
   "source": [
    "## Models"
   ]
  },
  {
   "cell_type": "code",
   "execution_count": 92,
   "metadata": {},
   "outputs": [],
   "source": [
    "# Choose feature (BOW_500 / TFIDF_500)\n",
    "# featureType = BOW_500 \n",
    "\n",
    "# for a classificaiton problem, you need to provide both training & testing data\n",
    "X_train_f = featureType.transform(X_train)\n",
    "X_val_f = featureType.transform(X_val)\n",
    "\n",
    "# for whole dataset\n",
    "X_f = featureType.transform(X)"
   ]
  },
  {
   "cell_type": "code",
   "execution_count": 93,
   "metadata": {},
   "outputs": [
    {
     "name": "stdout",
     "output_type": "stream",
     "text": [
      "X_train.shape:  (1164450, 20000)\n",
      "y_train.shape:  (1164450,)\n",
      "X_val.shape:  (291113, 20000)\n",
      "y_val.shape:  (291113,)\n"
     ]
    }
   ],
   "source": [
    "## take a look at data dimension is a good habbit  :)\n",
    "print('X_train.shape: ', X_train_f.shape)\n",
    "print('y_train.shape: ', y_train.shape)\n",
    "print('X_val.shape: ', X_val_f.shape)\n",
    "print('y_val.shape: ', y_val.shape)"
   ]
  },
  {
   "cell_type": "markdown",
   "metadata": {},
   "source": [
    "### 3.1 Decision Tree"
   ]
  },
  {
   "cell_type": "code",
   "execution_count": 28,
   "metadata": {},
   "outputs": [],
   "source": [
    "from sklearn.tree import DecisionTreeClassifier\n",
    "def DecisionTree():\n",
    "    ## build DecisionTree model\n",
    "    DT_model = DecisionTreeClassifier(random_state=0)\n",
    "\n",
    "    ## training!\n",
    "    DT_model = DT_model.fit(X_train_f, y_train)\n",
    "\n",
    "    ## predict!\n",
    "    y_train_pred = DT_model.predict(X_train_f)\n",
    "    y_val_pred = DT_model.predict(X_val_f)\n",
    "\n",
    "    ## so we get the pred result\n",
    "    print (y_val_pred[:10])\n",
    "    return y_train_pred, y_val_pred, DT_model"
   ]
  },
  {
   "cell_type": "markdown",
   "metadata": {},
   "source": [
    "* with all training_split data, 500 TFIDF features.  \n",
    "training accuracy: 0.89  \n",
    "testing accuracy: 0.42  "
   ]
  },
  {
   "cell_type": "markdown",
   "metadata": {},
   "source": [
    "### 3.2 Naive Bayes"
   ]
  },
  {
   "cell_type": "code",
   "execution_count": 29,
   "metadata": {},
   "outputs": [],
   "source": [
    "from sklearn.naive_bayes import MultinomialNB\n",
    "def NaiveBayes():\n",
    "    NB_model = MultinomialNB()\n",
    "    \n",
    "    # training!\n",
    "    NB_model = NB_model.fit(X_train_f, y_train)\n",
    "    \n",
    "    ## predict!\n",
    "    y_train_pred = NB_model.predict(X_train_f)\n",
    "    y_val_pred = NB_model.predict(X_val_f)\n",
    "\n",
    "    ## so we get the pred result\n",
    "    print (y_val_pred[:10])\n",
    "    \n",
    "    return y_train_pred, y_val_pred, NB_model"
   ]
  },
  {
   "cell_type": "markdown",
   "metadata": {},
   "source": [
    "### 3.3 Random Forest"
   ]
  },
  {
   "cell_type": "code",
   "execution_count": 30,
   "metadata": {},
   "outputs": [],
   "source": [
    "from sklearn.ensemble import RandomForestClassifier\n",
    "def RandomForest():\n",
    "    RF_model = RandomForestClassifier(criterion='entropy', n_estimators=10, random_state=0, n_jobs= -1,\n",
    "                                    max_depth=11, max_features='log2', verbose=1)\n",
    "    \n",
    "    # Training\n",
    "    RF_model = RF_model.fit(X_train_f, y_train)\n",
    "    \n",
    "    # Tesing\n",
    "    y_train_pred = RF_model.predict(X_train_f)\n",
    "    y_val_pred = RF_model.predict(X_val_f)\n",
    "    \n",
    "    # so we get the pred result\n",
    "    print (y_val_pred[:10])\n",
    "    \n",
    "    return y_train_pred, y_val_pred, RF_model"
   ]
  },
  {
   "cell_type": "markdown",
   "metadata": {},
   "source": [
    "* with all training_split data, 500 TFIDF features:  \n",
    "training accuracy: 0.39  \n",
    "testing accuracy: 0.38  \n",
    "tend to predict all to \"joy\""
   ]
  },
  {
   "cell_type": "markdown",
   "metadata": {},
   "source": [
    "### 3.4 Logistic Regression"
   ]
  },
  {
   "cell_type": "code",
   "execution_count": 31,
   "metadata": {},
   "outputs": [],
   "source": [
    "from sklearn.linear_model import LogisticRegression\n",
    "def Logistic():\n",
    "    LR_model = LogisticRegression(C=1000, penalty=\"l2\")\n",
    "    \n",
    "    # Training\n",
    "    LR_model = LR_model.fit(X_train_f, y_train)\n",
    "    \n",
    "    # Testing\n",
    "    y_train_pred = LR_model.predict(X_train_f)\n",
    "    y_val_pred = LR_model.predict(X_val_f)\n",
    "    \n",
    "    # so we get the pred result\n",
    "    print (y_val_pred[:10])\n",
    "    \n",
    "    return y_train_pred, y_val_pred, LR_model"
   ]
  },
  {
   "cell_type": "markdown",
   "metadata": {},
   "source": [
    "* with all triaining_split data, 2000 TFIDF features:  \n",
    "training accuracy: 0.51  \n",
    "testing accuracy: 0.51\n",
    "* with all training_split data, 5000 TFIDF features:  \n",
    "training accuracy: 0.53  \n",
    "testing accuracy: 0.52  \n",
    "kaggle: 0.42992\n",
    "* with all training_split data, 20000 TFIDF features:  \n",
    "training accuracy: 0.55  \n",
    "testing accuracy: 0.54  "
   ]
  },
  {
   "cell_type": "markdown",
   "metadata": {},
   "source": [
    "### 3.5 Deep Learning"
   ]
  },
  {
   "cell_type": "code",
   "execution_count": 114,
   "metadata": {},
   "outputs": [],
   "source": [
    "from sklearn.neural_network import MLPClassifier\n",
    "def MLP():\n",
    "    NN_model = MLPClassifier(activation='tanh', solver='sgd', max_iter=100,\n",
    "                             hidden_layer_sizes=(256,64,16), random_state=None, verbose=True,\n",
    "                             early_stopping=False, tol=0.0001)\n",
    "    \n",
    "    # Training \n",
    "    NN_model = NN_model.fit(X_train_f, y_train)\n",
    "    \n",
    "    # Testing\n",
    "    y_train_pred = NN_model.predict(X_train_f)\n",
    "    y_val_pred = NN_model.predict(X_val_f)\n",
    "    \n",
    "    # so we get the pred result\n",
    "    print (y_val_pred[:10])\n",
    "    \n",
    "    return y_train_pred, y_val_pred, NN_model"
   ]
  },
  {
   "cell_type": "markdown",
   "metadata": {},
   "source": [
    "* TFIDF512, teanh, sgd, e30, (256,64,16)  \n",
    "training accuracy: 0.47  \n",
    "testing accuracy: 0.47  \n",
    "* TFIDF512, teanh, sgd, e100, (256,64,16)  \n",
    "training accuracy: 0.49  \n",
    "testing accuracy: 0.48\n",
    "* TFIDF1024, teanh, sgd, e100, (256,64,16)  \n",
    "training accuracy: 0.51  \n",
    "testing accuracy: 0.51\n",
    "* TFIDF20000, teanh, sgd, e30, (256,64,16)  \n",
    "training accuracy: 0.58  \n",
    "testing accuracy: 0.55"
   ]
  },
  {
   "cell_type": "markdown",
   "metadata": {},
   "source": [
    "### 3.n Choose Model"
   ]
  },
  {
   "cell_type": "code",
   "execution_count": 115,
   "metadata": {},
   "outputs": [
    {
     "name": "stdout",
     "output_type": "stream",
     "text": [
      "Iteration 1, loss = 1.74462557\n",
      "Iteration 2, loss = 1.56429016\n",
      "Iteration 3, loss = 1.45231747\n",
      "Iteration 4, loss = 1.38944337\n",
      "Iteration 5, loss = 1.34542207\n",
      "Iteration 6, loss = 1.31569769\n",
      "Iteration 7, loss = 1.29430172\n",
      "Iteration 8, loss = 1.27787712\n",
      "Iteration 9, loss = 1.26498221\n",
      "Iteration 10, loss = 1.25430435\n",
      "Iteration 11, loss = 1.24529217\n",
      "Iteration 12, loss = 1.23757719\n",
      "Iteration 13, loss = 1.23085831\n",
      "Iteration 14, loss = 1.22519317\n",
      "Iteration 15, loss = 1.22000992\n",
      "Iteration 16, loss = 1.21551253\n",
      "Iteration 17, loss = 1.21131791\n",
      "Iteration 18, loss = 1.20773104\n",
      "Iteration 19, loss = 1.20431071\n",
      "Iteration 20, loss = 1.20139136\n",
      "Iteration 21, loss = 1.19838347\n",
      "Iteration 22, loss = 1.19582825\n",
      "Iteration 23, loss = 1.19326938\n",
      "Iteration 24, loss = 1.19086710\n",
      "Iteration 25, loss = 1.18865557\n",
      "Iteration 26, loss = 1.18639565\n",
      "Iteration 27, loss = 1.18460845\n",
      "Iteration 28, loss = 1.18277092\n",
      "Iteration 29, loss = 1.18088493\n",
      "Iteration 30, loss = 1.17926384\n",
      "Iteration 31, loss = 1.17765371\n",
      "Iteration 32, loss = 1.17605884\n",
      "Iteration 33, loss = 1.17451187\n",
      "Iteration 34, loss = 1.17324135\n",
      "Iteration 35, loss = 1.17182352\n",
      "Iteration 36, loss = 1.17039434\n",
      "Iteration 37, loss = 1.16919765\n",
      "Iteration 38, loss = 1.16796678\n",
      "Iteration 39, loss = 1.16671295\n",
      "Iteration 40, loss = 1.16554053\n",
      "Iteration 41, loss = 1.16441635\n",
      "Iteration 42, loss = 1.16341857\n",
      "Iteration 43, loss = 1.16227048\n",
      "Iteration 44, loss = 1.16116669\n",
      "Iteration 45, loss = 1.16001973\n",
      "Iteration 46, loss = 1.15888580\n",
      "Iteration 47, loss = 1.15777228\n",
      "Iteration 48, loss = 1.15693541\n",
      "Iteration 49, loss = 1.15571872\n",
      "Iteration 50, loss = 1.15482358\n",
      "Iteration 51, loss = 1.15389051\n",
      "Iteration 52, loss = 1.15293310\n",
      "Iteration 53, loss = 1.15184232\n",
      "Iteration 54, loss = 1.15083115\n",
      "Iteration 55, loss = 1.14980951\n",
      "Iteration 56, loss = 1.14881027\n",
      "Iteration 57, loss = 1.14785924\n",
      "Iteration 58, loss = 1.14676868\n",
      "Iteration 59, loss = 1.14581944\n",
      "Iteration 60, loss = 1.14485895\n",
      "Iteration 61, loss = 1.14382631\n",
      "Iteration 62, loss = 1.14288116\n",
      "Iteration 63, loss = 1.14158925\n",
      "Iteration 64, loss = 1.14072802\n",
      "Iteration 65, loss = 1.13971096\n",
      "Iteration 66, loss = 1.13881739\n",
      "Iteration 67, loss = 1.13764670\n",
      "Iteration 68, loss = 1.13667917\n",
      "Iteration 69, loss = 1.13574636\n",
      "Iteration 70, loss = 1.13454872\n",
      "Iteration 71, loss = 1.13362368\n",
      "Iteration 72, loss = 1.13273267\n",
      "Iteration 73, loss = 1.13181140\n",
      "Iteration 74, loss = 1.13080994\n",
      "Iteration 75, loss = 1.12994548\n",
      "Iteration 76, loss = 1.12886435\n",
      "Iteration 77, loss = 1.12790210\n",
      "Iteration 78, loss = 1.12726575\n",
      "Iteration 79, loss = 1.12612925\n",
      "Iteration 80, loss = 1.12516170\n",
      "Iteration 81, loss = 1.12435414\n",
      "Iteration 82, loss = 1.12332948\n",
      "Iteration 83, loss = 1.12255809\n",
      "Iteration 84, loss = 1.12164962\n",
      "Iteration 85, loss = 1.12068912\n",
      "Iteration 86, loss = 1.11988926\n",
      "Iteration 87, loss = 1.11900374\n",
      "Iteration 88, loss = 1.11809289\n",
      "Iteration 89, loss = 1.11726746\n",
      "Iteration 90, loss = 1.11647051\n",
      "Iteration 91, loss = 1.11559329\n",
      "Iteration 92, loss = 1.11466292\n",
      "Iteration 93, loss = 1.11387874\n",
      "Iteration 94, loss = 1.11301420\n",
      "Iteration 95, loss = 1.11221136\n",
      "Iteration 96, loss = 1.11139447\n",
      "Iteration 97, loss = 1.11054816\n",
      "Iteration 98, loss = 1.10971658\n",
      "Iteration 99, loss = 1.10905567\n",
      "Iteration 100, loss = 1.10804635\n"
     ]
    },
    {
     "name": "stderr",
     "output_type": "stream",
     "text": [
      "/Users/zhaoyuhan/opt/anaconda3/lib/python3.8/site-packages/sklearn/neural_network/_multilayer_perceptron.py:614: ConvergenceWarning: Stochastic Optimizer: Maximum iterations (100) reached and the optimization hasn't converged yet.\n",
      "  warnings.warn(\n"
     ]
    },
    {
     "name": "stdout",
     "output_type": "stream",
     "text": [
      "['trust' 'joy' 'joy' 'anticipation' 'joy' 'fear' 'anticipation' 'joy'\n",
      " 'trust' 'joy']\n"
     ]
    }
   ],
   "source": [
    "# Choose classifier\n",
    "y_train_pred, y_val_pred, model = MLP()"
   ]
  },
  {
   "cell_type": "code",
   "execution_count": 116,
   "metadata": {},
   "outputs": [],
   "source": [
    "    # save model\n",
    "    import pickle\n",
    "    f = open('Model/NNmodel_sgd_tanh_e100_TF20000.pickle', 'wb')\n",
    "#     f = open('Model/RLmodel_TF512.pickle', 'wb')\n",
    "    pickle.dump(model, f)\n",
    "    f.close()"
   ]
  },
  {
   "cell_type": "markdown",
   "metadata": {},
   "source": [
    "## Evaluation "
   ]
  },
  {
   "cell_type": "code",
   "execution_count": 117,
   "metadata": {},
   "outputs": [
    {
     "name": "stdout",
     "output_type": "stream",
     "text": [
      "training accuracy: 0.59\n",
      "testing accuracy: 0.56\n"
     ]
    }
   ],
   "source": [
    "## accuracy\n",
    "from sklearn.metrics import accuracy_score\n",
    "\n",
    "acc_train = accuracy_score(y_true=y_train, y_pred=y_train_pred)\n",
    "acc_val = accuracy_score(y_true=y_val, y_pred=y_val_pred)\n",
    "\n",
    "print('training accuracy: {}'.format(round(acc_train, 2)))\n",
    "print('testing accuracy: {}'.format(round(acc_val, 2)))"
   ]
  },
  {
   "cell_type": "code",
   "execution_count": 118,
   "metadata": {},
   "outputs": [
    {
     "name": "stdout",
     "output_type": "stream",
     "text": [
      "              precision    recall  f1-score   support\n",
      "\n",
      "       anger       0.70      0.22      0.33      8021\n",
      "anticipation       0.67      0.51      0.58     50164\n",
      "     disgust       0.54      0.32      0.40     27672\n",
      "        fear       0.65      0.41      0.50     13007\n",
      "         joy       0.56      0.79      0.66    102799\n",
      "     sadness       0.46      0.56      0.51     38812\n",
      "    surprise       0.58      0.23      0.32      9695\n",
      "       trust       0.51      0.38      0.43     40943\n",
      "\n",
      "    accuracy                           0.56    291113\n",
      "   macro avg       0.58      0.43      0.47    291113\n",
      "weighted avg       0.56      0.56      0.54    291113\n",
      "\n"
     ]
    }
   ],
   "source": [
    "## precision, recall, f1-score,\n",
    "from sklearn.metrics import classification_report\n",
    "\n",
    "print(classification_report(y_true=y_val, y_pred=y_val_pred))"
   ]
  },
  {
   "cell_type": "code",
   "execution_count": 119,
   "metadata": {},
   "outputs": [
    {
     "name": "stdout",
     "output_type": "stream",
     "text": [
      "[[ 1744   384   875   132  2463  2010    81   332]\n",
      " [   77 25756   808   492 16170  3264   236  3361]\n",
      " [  237   921  8856   425  7433  8299   337  1164]\n",
      " [   31   757   394  5305  4203  1699    93   525]\n",
      " [  133  5733  1470   832 81176  5353   382  7720]\n",
      " [  199  1413  2850   497 10506 21627   293  1427]\n",
      " [   33   509   599   190  3687  2019  2182   476]\n",
      " [   45  3134   689   336 18731  2426   144 15438]]\n"
     ]
    }
   ],
   "source": [
    "## check by confusion matrix\n",
    "from sklearn.metrics import confusion_matrix\n",
    "\n",
    "cm = confusion_matrix(y_true=y_val, y_pred=y_val_pred) \n",
    "print(cm)"
   ]
  },
  {
   "cell_type": "code",
   "execution_count": 120,
   "metadata": {},
   "outputs": [],
   "source": [
    "# Funciton for visualizing confusion_matrix\n",
    "import matplotlib.pyplot as plt\n",
    "import seaborn as sns\n",
    "import numpy as np\n",
    "import itertools\n",
    "\n",
    "def plot_confusion_matrix(cm, classes, title='Confusion matrix',\n",
    "                          cmap=sns.cubehelix_palette(as_cmap=True)):\n",
    "    \"\"\"\n",
    "    This function is modified from: \n",
    "    http://scikit-learn.org/stable/auto_examples/model_selection/plot_confusion_matrix.html\n",
    "    \"\"\"\n",
    "    classes.sort()\n",
    "    tick_marks = np.arange(len(classes))    \n",
    "    \n",
    "    fig, ax = plt.subplots(figsize=(8,8))\n",
    "    im = ax.imshow(cm, interpolation='nearest', cmap=cmap)\n",
    "    ax.figure.colorbar(im, ax=ax)\n",
    "    ax.set(xticks=np.arange(cm.shape[1]),\n",
    "           yticks=np.arange(cm.shape[0]),\n",
    "           xticklabels = classes,\n",
    "           yticklabels = classes,\n",
    "           title = title,\n",
    "           xlabel = 'True label',\n",
    "           ylabel = 'Predicted label')\n",
    "\n",
    "    fmt = 'd'\n",
    "    thresh = cm.max() / 2.\n",
    "    for i, j in itertools.product(range(cm.shape[0]), range(cm.shape[1])):\n",
    "        plt.text(j, i, format(cm[i, j], fmt), horizontalalignment=\"center\", color=\"white\" if cm[i, j] > thresh else \"black\")\n",
    "    ylim_top = len(classes) - 0.5\n",
    "    plt.ylim([ylim_top, -.5])\n",
    "    plt.tight_layout()\n",
    "    plt.show()"
   ]
  },
  {
   "cell_type": "code",
   "execution_count": 121,
   "metadata": {},
   "outputs": [
    {
     "data": {
      "image/png": "[encoded data removed]",
      "text/plain": [
       "<Figure size 576x576 with 2 Axes>"
      ]
     },
     "metadata": {
      "needs_background": "light"
     },
     "output_type": "display_data"
    }
   ],
   "source": [
    "# plot your confusion matrix\n",
    "my_tags = ['anger', 'anticipation', 'disgust', 'fear', 'sadness', 'surprise', 'trust', 'joy']\n",
    "plot_confusion_matrix(cm, classes=my_tags, title='Confusion matrix')"
   ]
  },
  {
   "cell_type": "markdown",
   "metadata": {},
   "source": [
    "## Output Result"
   ]
  },
  {
   "cell_type": "code",
   "execution_count": 122,
   "metadata": {},
   "outputs": [
    {
     "name": "stdout",
     "output_type": "stream",
     "text": [
      "X_test.shape:  (411972, 20000)\n",
      "['anticipation' 'anticipation' 'joy' 'joy' 'trust' 'sadness' 'joy'\n",
      " 'sadness' 'sadness' 'joy']\n"
     ]
    }
   ],
   "source": [
    "# Load data\n",
    "X_test = test_df['text']\n",
    "\n",
    "# Transform X\n",
    "X_test = featureType.transform(X_test)\n",
    "print('X_test.shape: ', X_test.shape)\n",
    "\n",
    "# Predict\n",
    "y_test_pred = model.predict(X_test)\n",
    "print (y_test_pred[:10])"
   ]
  },
  {
   "cell_type": "code",
   "execution_count": 123,
   "metadata": {},
   "outputs": [
    {
     "data": {
      "text/html": [
       "<div>\n",
       "<style scoped>\n",
       "    .dataframe tbody tr th:only-of-type {\n",
       "        vertical-align: middle;\n",
       "    }\n",
       "\n",
       "    .dataframe tbody tr th {\n",
       "        vertical-align: top;\n",
       "    }\n",
       "\n",
       "    .dataframe thead th {\n",
       "        text-align: right;\n",
       "    }\n",
       "</style>\n",
       "<table border=\"1\" class=\"dataframe\">\n",
       "  <thead>\n",
       "    <tr style=\"text-align: right;\">\n",
       "      <th></th>\n",
       "      <th>id</th>\n",
       "      <th>emotion</th>\n",
       "    </tr>\n",
       "  </thead>\n",
       "  <tbody>\n",
       "    <tr>\n",
       "      <th>2</th>\n",
       "      <td>0x28b412</td>\n",
       "      <td>anticipation</td>\n",
       "    </tr>\n",
       "    <tr>\n",
       "      <th>4</th>\n",
       "      <td>0x2de201</td>\n",
       "      <td>anticipation</td>\n",
       "    </tr>\n",
       "    <tr>\n",
       "      <th>9</th>\n",
       "      <td>0x218443</td>\n",
       "      <td>joy</td>\n",
       "    </tr>\n",
       "    <tr>\n",
       "      <th>30</th>\n",
       "      <td>0x2939d5</td>\n",
       "      <td>joy</td>\n",
       "    </tr>\n",
       "    <tr>\n",
       "      <th>33</th>\n",
       "      <td>0x26289a</td>\n",
       "      <td>trust</td>\n",
       "    </tr>\n",
       "  </tbody>\n",
       "</table>\n",
       "</div>"
      ],
      "text/plain": [
       "          id       emotion\n",
       "2   0x28b412  anticipation\n",
       "4   0x2de201  anticipation\n",
       "9   0x218443           joy\n",
       "30  0x2939d5           joy\n",
       "33  0x26289a         trust"
      ]
     },
     "execution_count": 123,
     "metadata": {},
     "output_type": "execute_result"
    }
   ],
   "source": [
    "# Submission\n",
    "submission = pd.DataFrame({'id':test_df['tweet_id'],'emotion':y_test_pred})\n",
    "submission.head()"
   ]
  },
  {
   "cell_type": "code",
   "execution_count": 124,
   "metadata": {},
   "outputs": [
    {
     "data": {
      "text/plain": [
       "(411972, 2)"
      ]
     },
     "execution_count": 124,
     "metadata": {},
     "output_type": "execute_result"
    }
   ],
   "source": [
    "# Check the shape\n",
    "submission.shape"
   ]
  },
  {
   "cell_type": "code",
   "execution_count": 125,
   "metadata": {},
   "outputs": [
    {
     "name": "stdout",
     "output_type": "stream",
     "text": [
      "Saved file: NN_e100_TFIDF20000.csv\n"
     ]
    }
   ],
   "source": [
    "path = 'Result/'\n",
    "filename = 'NN_e100_TFIDF20000.csv'\n",
    "submission.to_csv(path+filename, index=False)\n",
    "print('Saved file: ' + filename)"
   ]
  },
  {
   "cell_type": "code",
   "execution_count": null,
   "metadata": {},
   "outputs": [],
   "source": []
  },
  {
   "cell_type": "code",
   "execution_count": null,
   "metadata": {},
   "outputs": [],
   "source": []
  }
 ],
 "metadata": {
  "kernelspec": {
   "display_name": "Python 3",
   "language": "python",
   "name": "python3"
  },
  "language_info": {
   "codemirror_mode": {
    "name": "ipython",
    "version": 3
   },
   "file_extension": ".py",
   "mimetype": "text/x-python",
   "name": "python",
   "nbconvert_exporter": "python",
   "pygments_lexer": "ipython3",
   "version": "3.8.8"
  },
  "varInspector": {
   "cols": {
    "lenName": 16,
    "lenType": 16,
    "lenVar": 40
   },
   "kernels_config": {
    "python": {
     "delete_cmd_postfix": "",
     "delete_cmd_prefix": "del ",
     "library": "var_list.py",
     "varRefreshCmd": "print(var_dic_list())"
    },
    "r": {
     "delete_cmd_postfix": ") ",
     "delete_cmd_prefix": "rm(",
     "library": "var_list.r",
     "varRefreshCmd": "cat(var_dic_list()) "
    }
   },
   "types_to_exclude": [
    "module",
    "function",
    "builtin_function_or_method",
    "instance",
    "_Feature"
   ],
   "window_display": false
  }
 },
 "nbformat": 4,
 "nbformat_minor": 4
}
